{
 "cells": [
  {
   "cell_type": "markdown",
   "metadata": {},
   "source": [
    "## Tarea09 - Manejo de Archivos\n",
    "### Alumno: Arnaldo Ariel García"
   ]
  },
  {
   "cell_type": "markdown",
   "metadata": {},
   "source": [
    "***\n",
    "1 . Cree un fichero llamado estudiante.txt, que pueda cargar los datos de 10 estudiantes (nombre, apellido, edad, lugar de nacimiento, nacionalidad).  \n",
    "   Ejemplo:Carlos;Pérez;20;Cap Miranda; Paraguaya;"
   ]
  },
  {
   "cell_type": "code",
   "execution_count": 3,
   "metadata": {},
   "outputs": [],
   "source": [
    "f = open (\"estudiante.txt\", \"w\")\n",
    "for i in range(10):\n",
    "    nombre = input('Nombre: ')\n",
    "    apellido = input('Apellido: ')\n",
    "    edad = input('Edad: ')\n",
    "    lugar = input('Lugar de nacimiento: ')\n",
    "    nac = input('Nacionalidad: ')\n",
    "    f.write('{},{},{},{},{}\\n'.format(nombre,apellido,edad,lugar,nac))\n",
    "f.close()"
   ]
  },
  {
   "cell_type": "markdown",
   "metadata": {},
   "source": [
    "***\n",
    "2 . Se tiene las lecturas de sensores en un fichero, y se necesita sacar el promedio de temperatura, la minima y maxima humedad.  \n",
    "   se tiene adjunto los datos en el fichero e2.txt."
   ]
  },
  {
   "cell_type": "code",
   "execution_count": 124,
   "metadata": {},
   "outputs": [
    {
     "name": "stdout",
     "output_type": "stream",
     "text": [
      "La temperatura promedio es:  14.642167195833323\n",
      "La humedad máxima es: 89 %\n",
      "La humedad mínima es: 16 %\n"
     ]
    }
   ],
   "source": [
    "def tempe(val):\n",
    "    return float(val.split()[0]) #Separar filas, seleccionar el primero y convertir a float\n",
    "\n",
    "def humed(val):\n",
    "    return int(float(val.split()[1])) #Separar filas, seleccionar el segundo, extraer float y convertir a entero\n",
    "\n",
    "f = open(\"e2.txt\")\n",
    "filas = f.readlines() #lista de filas\n",
    "temp = list(map(tempe, filas)) #Operar sobre las filas para obtener solo temperaturas\n",
    "prom = sum(temp)/len(temp)\n",
    "hume = list(map(humed,filas))  #Operar sobre las filas para obtener solo humedades\n",
    "\n",
    "print('La temperatura promedio es: ',prom)\n",
    "print('La humedad máxima es:',max(hume),'%')\n",
    "print('La humedad mínima es:',min(hume),'%')"
   ]
  },
  {
   "cell_type": "markdown",
   "metadata": {},
   "source": [
    "***\n",
    "3 .  Se tiene la velocidad del viento en 10 m, la dirección del viento en grados y la duración de sol en minutos. Calcule el promedio de la velocidad del viendo cuando la dirección de viento sea menor o igual a 90 grados.  \n",
    "   se tiene adjunto los datos en el fichero e3.txt."
   ]
  },
  {
   "cell_type": "code",
   "execution_count": 222,
   "metadata": {},
   "outputs": [
    {
     "name": "stdout",
     "output_type": "stream",
     "text": [
      "Los vientos menores o iguales a 90° tienen una velocidad promedio de: 11.264558564356442\n"
     ]
    }
   ],
   "source": [
    "def velo(val):\n",
    "    return float(val.split()[0]) #Separar filas, seleccionar el primero y convertir a float\n",
    "\n",
    "def dire(val):\n",
    "    return float(val.split()[1]) #Separar filas, seleccionar el segundo, extraer float\n",
    "\n",
    "f = open(\"e3.txt\")\n",
    "f.readline()    #quita encabezado\n",
    "filas = f.readlines() #lista de filas\n",
    "vel = list(map(velo, filas)) #Operar sobre las filas para obtener solo velocidades\n",
    "dir = list(map(dire, filas))  #Operar sobre las filas para obtener solo direcciones\n",
    "\n",
    "nueva = []\n",
    "for d in range(len(dir)):\n",
    "    if dir[d]<=90:\n",
    "        nueva.append(vel[d])\n",
    "\n",
    "prom = sum(nueva)/len(nueva)\n",
    "print('Los vientos menores o iguales a 90° tienen una velocidad promedio de:',prom)\n"
   ]
  },
  {
   "cell_type": "markdown",
   "metadata": {},
   "source": [
    "***\n",
    "4 . Escriba un programa en python para realizar una lista de contacto, que pueda listar,agrega, eliminar y buscar un contacto utilizando ficheros."
   ]
  },
  {
   "cell_type": "code",
   "execution_count": 23,
   "metadata": {},
   "outputs": [
    {
     "name": "stdout",
     "output_type": "stream",
     "text": [
      "\n",
      "\tAgenda\n",
      "1: Listar contactos.\n",
      "2: Agregar contactos.\n",
      "3: Eliminar contactos.\n",
      "4: Buscar contactos.\n",
      "0: Para Salir!!!\n",
      "\n",
      "\n",
      "Busqueda..\n",
      "Nombre\tTelefono\n",
      "Francisco\t098635423\n",
      "Contacto a ser eliminado Francisco\t098635423\n",
      "\n",
      "Eliminado\n",
      "\n",
      "\tAgenda\n",
      "1: Listar contactos.\n",
      "2: Agregar contactos.\n",
      "3: Eliminar contactos.\n",
      "4: Buscar contactos.\n",
      "0: Para Salir!!!\n",
      "\n",
      "Hasta pronto!\n"
     ]
    }
   ],
   "source": [
    "def menu():#solo muestra el menú para elegir\n",
    "    print('''\\n\\tAgenda\n",
    "1: Listar contactos.\n",
    "2: Agregar contactos.\n",
    "3: Eliminar contactos.\n",
    "4: Buscar contactos.\n",
    "0: Para Salir!!!\n",
    "''')\n",
    "    elegir=int(input('Elige una opcion: '))\n",
    "    return elegir\n",
    "\n",
    "def agregar():\n",
    "    f = open (\"fichero.txt\", \"a\")\n",
    "    cont = input('Nombre: ')\n",
    "    tel = input('Telefono: ')\n",
    "    f.write(cont+'\\t'+tel+'\\n')\n",
    "    f.close()\n",
    "    print('Agregado:',cont,tel)\n",
    "\n",
    "def listar():\n",
    "    f = open(\"fichero.txt\")\n",
    "    l= f.read()\n",
    "    f.close()\n",
    "    print('Listado')\n",
    "    print('Nombre\\tTelefono\\n',l)\n",
    "    \n",
    "def buscar():\n",
    "    f = open('fichero.txt')\n",
    "    lineas = f.readlines()\n",
    "    busca = input('Ingrese busqueda: ')\n",
    "    line = 0\n",
    "    enc = 'x'\n",
    "    print('\\nBusqueda..\\nNombre\\tTelefono')\n",
    "    for linea in lineas:\n",
    "        if busca in linea:\n",
    "            print(linea,end='')\n",
    "            enc = line\n",
    "        line +=1\n",
    "    if enc=='x':\n",
    "        print('No encontrado..')    \n",
    "    f.close()\n",
    "    return enc\n",
    "\n",
    "def eliminar():\n",
    "    f = open('fichero.txt')\n",
    "    lineas = f.readlines()\n",
    "    f.close()\n",
    "    elim = buscar()\n",
    "    if elim!='x':\n",
    "        print('Contacto a ser eliminado',lineas[elim])\n",
    "        conf = input('Es correcto? (s/n)')\n",
    "        if conf=='s':\n",
    "            lineas.pop(elim)\n",
    "            print('Eliminado')\n",
    "        else:\n",
    "            print('No se eliminó')\n",
    "        guardar =''.join(lineas)\n",
    "        f=open(\"fichero.txt\",\"w\")\n",
    "        f.write(guardar)\n",
    "        f.close()\n",
    "\n",
    "\n",
    "while True:\n",
    "    elegir = menu()\n",
    "    if elegir==1:\n",
    "        listar()\n",
    "    elif elegir==2:\n",
    "        agregar()\n",
    "    elif elegir==3:\n",
    "        eliminar()\n",
    "    elif elegir==4:\n",
    "        buscar()\n",
    "    elif elegir==0:\n",
    "        print('Hasta pronto!')\n",
    "        break\n",
    "    else:\n",
    "        print('Opcion no válida')"
   ]
  }
 ],
 "metadata": {
  "interpreter": {
   "hash": "f4fde45515710cbe4f4cf44a8ddef1b298277709bd6c5462499553af68a98f2e"
  },
  "kernelspec": {
   "display_name": "Python 3.10.2 64-bit",
   "language": "python",
   "name": "python3"
  },
  "language_info": {
   "codemirror_mode": {
    "name": "ipython",
    "version": 3
   },
   "file_extension": ".py",
   "mimetype": "text/x-python",
   "name": "python",
   "nbconvert_exporter": "python",
   "pygments_lexer": "ipython3",
   "version": "3.10.2"
  },
  "orig_nbformat": 4
 },
 "nbformat": 4,
 "nbformat_minor": 2
}
