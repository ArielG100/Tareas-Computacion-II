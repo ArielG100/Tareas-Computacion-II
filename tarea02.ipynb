{
 "cells": [
  {
   "cell_type": "markdown",
   "metadata": {},
   "source": [
    "# Tarea02-Operadores Relacionales y Lógicos\n",
    "### Alumno: Arnaldo Ariel García\n",
    "*Creado en Visual Studio con Jupyter Notebook*"
   ]
  },
  {
   "cell_type": "markdown",
   "metadata": {},
   "source": [
    "***\n",
    "1- Escriba un programa que le pida al usuario que ingrese una longitud en centímetros. Si el usuario ingresa una longitud negativa, el programa debe indicar al usuario que la entrada no es válida. De lo contrario, el programa debe convertir la longitud a pulgadas e imprimir el resultado. Hay 2,54 centímetros en una pulgada."
   ]
  },
  {
   "cell_type": "code",
   "execution_count": 1,
   "metadata": {},
   "outputs": [
    {
     "name": "stdout",
     "output_type": "stream",
     "text": [
      "Conversión de centimetros a pulgadas\n",
      "50.0 centimetros equivalen a 19.68503937007874 pulgadas\n"
     ]
    }
   ],
   "source": [
    "print('Conversión de centimetros a pulgadas')\n",
    "cent = float(input('Ingrese la medida en centimetros: '))\n",
    "if (cent>0):\n",
    "    pulg = cent / 2.54\n",
    "    print(cent,'centimetros equivalen a',pulg,'pulgadas')\n",
    "else:\n",
    "    print('La entrada no es valida')"
   ]
  },
  {
   "cell_type": "markdown",
   "metadata": {},
   "source": [
    "***\n",
    "2- Generar números aleatorios (random) del 1 al 10 y preguntar al usuario que adivine el numero. Utilizar int_ingresado= int(input(‘Ingrese el numero: '))"
   ]
  },
  {
   "cell_type": "code",
   "execution_count": 7,
   "metadata": {},
   "outputs": [
    {
     "name": "stdout",
     "output_type": "stream",
     "text": [
      "Adivina el número del 1 al 10\n",
      "Adivinaste! El número es 4\n"
     ]
    }
   ],
   "source": [
    "from random import randint\n",
    "print('Adivina el número del 1 al 10')\n",
    "\n",
    "ale = randint(1,10)\n",
    "int_ingresado = int(input('Ingresa un número'))\n",
    "if (ale == int_ingresado):\n",
    "    print('Adivinaste! El número es',ale)\n",
    "else:\n",
    "    print('Fallaste! El número era',ale)\n"
   ]
  },
  {
   "cell_type": "markdown",
   "metadata": {},
   "source": [
    "***\n",
    "3- En un comercio se venden focos a un precio diferenciado por cantidad, el precio unitario es 4.500Gs, si la cantidad es de 6 a 12 el precio es 4.000Gs, a partir de 13 unidades 3.700Gs. Elabore un programa que pida al usuario ingresar la cantidad de focos y retorne el precio unitario y el precio total dependiendo de la cantidad."
   ]
  },
  {
   "cell_type": "code",
   "execution_count": 5,
   "metadata": {},
   "outputs": [
    {
     "name": "stdout",
     "output_type": "stream",
     "text": [
      "Descuentos por focos\n",
      "Usted debe pagar 55500 Gs. por 15 focos obtuvo un descuento de 12000 Gs.\n"
     ]
    }
   ],
   "source": [
    "print('Descuentos por focos')\n",
    "cant = int(input('Cantidad de focos: '))\n",
    "if (cant<0):\n",
    "    print('Cantidad invalida!')\n",
    "else:\n",
    "    if (cant<6):\n",
    "        precio = cant * 4500\n",
    "    else:\n",
    "        if (cant<=12):\n",
    "            precio = cant * 4000\n",
    "        else:\n",
    "            if (cant>=13):\n",
    "                precio = cant * 3700\n",
    "    desc = cant *4500 - precio\n",
    "    print('Usted debe pagar',precio,'Gs. por',cant,'focos','obtuvo un descuento de',desc,'Gs.')"
   ]
  }
 ],
 "metadata": {
  "kernelspec": {
   "display_name": "Python 3.9.9 64-bit",
   "language": "python",
   "name": "python3"
  },
  "language_info": {
   "codemirror_mode": {
    "name": "ipython",
    "version": 3
   },
   "file_extension": ".py",
   "mimetype": "text/x-python",
   "name": "python",
   "nbconvert_exporter": "python",
   "pygments_lexer": "ipython3",
   "version": "3.9.9"
  },
  "orig_nbformat": 4,
  "vscode": {
   "interpreter": {
    "hash": "858947589ae312b46be4e9b6c1e8121937d9fe4dc7cc087105814b8203151760"
   }
  }
 },
 "nbformat": 4,
 "nbformat_minor": 2
}
