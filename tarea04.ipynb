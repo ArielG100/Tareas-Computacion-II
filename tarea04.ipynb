{
 "cells": [
  {
   "cell_type": "markdown",
   "metadata": {},
   "source": [
    "## Tarea04\n",
    "## Interrupción de Bucles Funciones\n",
    "### Alumno: Arnaldo Ariel García\n"
   ]
  },
  {
   "cell_type": "markdown",
   "metadata": {},
   "source": [
    "***\n",
    "1. Crea la función “promedio” que reciba una lista de números como parámetro y retorne el promedio de los números. Ejemplo: lista = [2,4,6,10]"
   ]
  },
  {
   "cell_type": "code",
   "execution_count": 6,
   "metadata": {},
   "outputs": [
    {
     "name": "stdout",
     "output_type": "stream",
     "text": [
      "Calculo del Promedio\n",
      "La lista es: [2, 3, 5, 8, 9]\n",
      "El promedio es:  5.4\n"
     ]
    }
   ],
   "source": [
    "def promedio(lista):\n",
    "    suma = sum(lista)\n",
    "    size = len(lista)\n",
    "    prom = suma/size\n",
    "    return lista, prom\n",
    "\n",
    "print('Calculo del Promedio')\n",
    "val = input('Ingresa[lista de valores separados por \",\": ')\n",
    "val = val.split(',')\n",
    "val = list(map(int, val))\n",
    "resp = promedio(val)\n",
    "\n",
    "print('La lista es:',resp[0])\n",
    "print('El promedio es: ',resp[1])\n"
   ]
  },
  {
   "cell_type": "markdown",
   "metadata": {},
   "source": [
    "***\n",
    "2. Crea una función “calcularEdad” en la que reciba como parámetro el año de nacimiento e imprima “La edad es X años”."
   ]
  },
  {
   "cell_type": "code",
   "execution_count": 26,
   "metadata": {},
   "outputs": [
    {
     "name": "stdout",
     "output_type": "stream",
     "text": [
      "La edad es 44 años 👴\n"
     ]
    }
   ],
   "source": [
    "def CalcularEdad(anho):\n",
    "    anho= int(anho)\n",
    "    edad = 2022 - anho\n",
    "    return edad\n",
    "\n",
    "a =input('Año de Nacimiento?: ')\n",
    "print('La edad es',CalcularEdad(a),'años 👴')\n",
    "    \n",
    "    "
   ]
  },
  {
   "cell_type": "markdown",
   "metadata": {},
   "source": [
    "***\n",
    " 3. Escriba una función mayor_edad, que reciba como parámetro la edad y retorne “Ud es mayor de edad” si la edad es mayor o igual a 18, caso contrario imprimir “Ud es menor de edad”"
   ]
  },
  {
   "cell_type": "code",
   "execution_count": 8,
   "metadata": {},
   "outputs": [
    {
     "name": "stdout",
     "output_type": "stream",
     "text": [
      "Ud es menor de edad 👦\n"
     ]
    }
   ],
   "source": [
    "def mayor_edad(edad):\n",
    "    if edad>=18:\n",
    "        print('Ud es mayor de edad 👨')\n",
    "    else:\n",
    "        print('Ud es menor de edad 👦')\n",
    "        \n",
    "mayor_edad(int(input('¿Cual es tu edad?: ')))"
   ]
  },
  {
   "cell_type": "markdown",
   "metadata": {},
   "source": [
    "***\n",
    " 4. Generar números aleatorios (random) del 1 al 10 y preguntar al usuario que adivine el número. Utilizar int_ingresado= int(input(‘Ingrese el número: '))"
   ]
  },
  {
   "cell_type": "code",
   "execution_count": 14,
   "metadata": {},
   "outputs": [
    {
     "name": "stdout",
     "output_type": "stream",
     "text": [
      "Fallaste 😣 el correcto es 8\n"
     ]
    }
   ],
   "source": [
    "from random import randint\n",
    "\n",
    "alea = randint(1,10)\n",
    "int_ingresado = int(input('Ingrese el número: '))\n",
    "if alea == int_ingresado:\n",
    "    print('Adivinaste!! 😁')\n",
    "else:\n",
    "    print('Fallaste 😣 el correcto es',alea)\n"
   ]
  },
  {
   "cell_type": "markdown",
   "metadata": {},
   "source": [
    "***\n",
    " 5. En un comercio se venden focos a un precio diferenciado por cantidad, el precio unitario es 4.500Gs, si la cantidad es de 6 a 12 el precio es 4.000Gs, a partir de 13 unidades 3.700Gs. Cree una función que reciba como parámetro la cantidad de focos e imprima el precio unitario y el precio total dependiendo de la cantidad. def calcular_precio(cant_focos)"
   ]
  },
  {
   "cell_type": "code",
   "execution_count": 12,
   "metadata": {},
   "outputs": [
    {
     "name": "stdout",
     "output_type": "stream",
     "text": [
      "El precio unitario es 3700 y el precio total es 92500 por 25 💡\n"
     ]
    }
   ],
   "source": [
    "def calcular_precio(cant_focos):\n",
    "    if cant_focos<6:\n",
    "        unit = 4500\n",
    "    else:\n",
    "        if (cant_focos>=6) and (cant_focos<=12):\n",
    "            unit = 4000\n",
    "        else:\n",
    "            unit = 3700\n",
    "    print('El precio unitario es {0} y el precio total es {1} por {2} 💡'.format(unit,unit*cant_focos,cant_focos))\n",
    "calcular_precio(int(input('Cantidad de focos: ')))"
   ]
  },
  {
   "cell_type": "markdown",
   "metadata": {},
   "source": [
    "***\n",
    " 6. Escriba un programa que pregunte cuántos números se van a introducir, pida esos números, diga al final cuántos han sido pares y cuántos impares. Ejemplo: “Usted ha ingresado 5 números, de los cuales 2 son pares y 3 impares”"
   ]
  },
  {
   "cell_type": "code",
   "execution_count": 34,
   "metadata": {},
   "outputs": [
    {
     "name": "stdout",
     "output_type": "stream",
     "text": [
      "3 son pares y 5 impares\n"
     ]
    }
   ],
   "source": [
    "cant = int(input('Cuantos números desea introducir?: '))\n",
    "par = 0\n",
    "impar = 0\n",
    "for i in range(cant):\n",
    "    n = int(input('Ingresar número: '))\n",
    "    if (n%2)==0:\n",
    "        par +=1\n",
    "    else:\n",
    "        impar +=1\n",
    "print(par,'son pares y',impar,'impares')"
   ]
  },
  {
   "cell_type": "markdown",
   "metadata": {},
   "source": [
    "***\n",
    " 7. Definir la función dibujar_rectangulo(ancho, alto), que reciba como parámetro la altura y el ancho, debe retornar la siguiente figura. Ej: alto=3, ancho=5  \n",
    "▨▨▨▨▨  \n",
    "▨▨▨▨▨  \n",
    "▨▨▨▨▨"
   ]
  },
  {
   "cell_type": "code",
   "execution_count": 21,
   "metadata": {},
   "outputs": [
    {
     "name": "stdout",
     "output_type": "stream",
     "text": [
      "▮  ▮  ▮  ▮  ▮  ▮  ▮  ▮  ▮  \n",
      "▮  ▮  ▮  ▮  ▮  ▮  ▮  ▮  ▮  \n",
      "▮  ▮  ▮  ▮  ▮  ▮  ▮  ▮  ▮  \n",
      "▮  ▮  ▮  ▮  ▮  ▮  ▮  ▮  ▮  \n",
      "▮  ▮  ▮  ▮  ▮  ▮  ▮  ▮  ▮  \n",
      "▮  ▮  ▮  ▮  ▮  ▮  ▮  ▮  ▮  \n"
     ]
    }
   ],
   "source": [
    "def dibujar_rectangulo(ancho,alto):\n",
    "    for a in range(alto):\n",
    "        for c in range(ancho):\n",
    "            print('▮  ',end='')\n",
    "        print('')\n",
    "\n",
    "dibujar_rectangulo(9,6)"
   ]
  },
  {
   "cell_type": "markdown",
   "metadata": {},
   "source": [
    "***\n",
    " 8. Definir una función calculadora, que sea capaz de realizar las siguientes operaciones: sumar, restar, dividir y multiplicar.\n",
    " Se debe definir cada operación como una función Ejemplo: sumar(num1, num2), restar(num1, num2)..\n",
    " Al inicio del programa, debe imprimir un mensaje con las opciones disponibles y el usuario debe elegir que operación desea realizar. Ejemplo “Opciones disponibles 1 - Sumar, 2-Restar, 4-Dividir…..”"
   ]
  },
  {
   "cell_type": "code",
   "execution_count": 75,
   "metadata": {},
   "outputs": [
    {
     "name": "stdout",
     "output_type": "stream",
     "text": [
      "Calculadora Python\n",
      "1:Sumar\n",
      "2:Restar\n",
      "3:Dividir\n",
      "4:Multiplicar\n",
      "El resultado de la multiplicación es 6\n"
     ]
    }
   ],
   "source": [
    "def sumar(num1,num2):\n",
    "    suma = num1 + num2\n",
    "    return 'suma',suma\n",
    "\n",
    "def restar(num1, num2):\n",
    "    resta = num1 - num2\n",
    "    return 'resta',resta\n",
    "\n",
    "def dividir(num1,num2):\n",
    "    divid = num1 / num2\n",
    "    return 'división',divid\n",
    "\n",
    "def multiplicar(num1, num2):\n",
    "    mult = num1 * num2\n",
    "    return 'multiplicación',mult\n",
    "\n",
    "def calculadora():\n",
    "    print('Calculadora Python')\n",
    "    print('1:Sumar\\n2:Restar\\n3:Dividir\\n4:Multiplicar')\n",
    "    opt = int(input('Ellige opción'))\n",
    "    a = int(input('1er. número: '))\n",
    "    b = int(input('2do. número: '))\n",
    "    if opt == 1:\n",
    "        r = sumar(a,b)\n",
    "    elif opt == 2:\n",
    "        r = restar(a,b)\n",
    "    elif opt == 3:\n",
    "        r = dividir(a,b)\n",
    "    elif opt == 4:\n",
    "        r = multiplicar(a,b)\n",
    "    else:\n",
    "        print('Opcion no válida')\n",
    "    print('El resultado de la',r[0],'es',r[1])\n",
    "\n",
    "calculadora()"
   ]
  }
 ],
 "metadata": {
  "kernelspec": {
   "display_name": "Python 3.9.9 64-bit",
   "language": "python",
   "name": "python3"
  },
  "language_info": {
   "codemirror_mode": {
    "name": "ipython",
    "version": 3
   },
   "file_extension": ".py",
   "mimetype": "text/x-python",
   "name": "python",
   "nbconvert_exporter": "python",
   "pygments_lexer": "ipython3",
   "version": "3.9.9"
  },
  "orig_nbformat": 4,
  "vscode": {
   "interpreter": {
    "hash": "858947589ae312b46be4e9b6c1e8121937d9fe4dc7cc087105814b8203151760"
   }
  }
 },
 "nbformat": 4,
 "nbformat_minor": 2
}
