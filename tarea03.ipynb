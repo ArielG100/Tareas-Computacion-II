{
 "cells": [
  {
   "cell_type": "markdown",
   "metadata": {},
   "source": [
    "## Tarea03 - Estructura repetitivas\n",
    "### Alumno: Arnaldo Ariel García\n",
    "*Creado en Visual Studio con Jupyter Notebook*"
   ]
  },
  {
   "cell_type": "markdown",
   "metadata": {},
   "source": [
    "***\n",
    "1 – Definir una variable contador, e imprimir el valor del contador mientras que contador sea menor a 10."
   ]
  },
  {
   "cell_type": "code",
   "execution_count": 1,
   "metadata": {},
   "outputs": [
    {
     "name": "stdout",
     "output_type": "stream",
     "text": [
      "Usando While\n",
      "Contador 0\n",
      "Contador 1\n",
      "Contador 2\n",
      "Contador 3\n",
      "Contador 4\n",
      "Contador 5\n",
      "Contador 6\n",
      "Contador 7\n",
      "Contador 8\n",
      "Contador 9\n"
     ]
    }
   ],
   "source": [
    "c=0\n",
    "print('Usando While')\n",
    "while(c<10):\n",
    "    print('Contador',c)\n",
    "    c=c+1\n",
    "    #c+=1 tambien incrementa"
   ]
  },
  {
   "cell_type": "code",
   "execution_count": 2,
   "metadata": {},
   "outputs": [
    {
     "name": "stdout",
     "output_type": "stream",
     "text": [
      "Usando for\n",
      "Contador 0\n",
      "Contador 1\n",
      "Contador 2\n",
      "Contador 3\n",
      "Contador 4\n",
      "Contador 5\n",
      "Contador 6\n",
      "Contador 7\n",
      "Contador 8\n",
      "Contador 9\n"
     ]
    }
   ],
   "source": [
    "print('Usando for')\n",
    "for c in range(10):\n",
    "    print('Contador',c)"
   ]
  },
  {
   "cell_type": "markdown",
   "metadata": {},
   "source": [
    "***\n",
    "2 - Escriba un programa de Python para obtener la serie de Fibonacci entre 0 y 50. Ejemplo de la serie de Fibonacci: 0, 1, 1, 2, 3, 5, 8, 13, 21,…"
   ]
  },
  {
   "cell_type": "code",
   "execution_count": 8,
   "metadata": {},
   "outputs": [
    {
     "name": "stdout",
     "output_type": "stream",
     "text": [
      "Numeros de Fibonacci\n",
      "  0  1  1  2  3  5  8  13  21  34  55  89  144  233  377  610  987  1597  2584  4181"
     ]
    }
   ],
   "source": [
    "print('Numeros de Fibonacci')\n",
    "n = int(input('Cuantos Números?: '))\n",
    "a=0 #valor actual\n",
    "b=1 #valor siguiente\n",
    "c=0 #valor sumado\n",
    "for i in range(n):\n",
    "    print(' ',a, end='')    #imprime valor actual\n",
    "    c=a+b   #suma del actual con el siguiente\n",
    "    a=b #ahora el siguiente es el actual\n",
    "    b=c #la suma sera el siguiente numero"
   ]
  },
  {
   "cell_type": "code",
   "execution_count": 9,
   "metadata": {},
   "outputs": [
    {
     "name": "stdout",
     "output_type": "stream",
     "text": [
      "Numeros de Fibonacci con while\n",
      "  0  1  1  2  3  5  8  13  21  34"
     ]
    }
   ],
   "source": [
    "print('Numeros de Fibonacci con while')\n",
    "n=50  #Máximo valor del fibonacci\n",
    "a=0\n",
    "b=1\n",
    "while(a<=n):\n",
    "   print(' ',a, end='')\n",
    "   c=a+b\n",
    "   a=b\n",
    "   b=c"
   ]
  },
  {
   "cell_type": "markdown",
   "metadata": {},
   "source": [
    "***\n",
    "3 – Utilizando el bucle for, definir un rango desde 2013 al 2019 e imprimir cada año. Ejemplo print(“anho: ”, anho)"
   ]
  },
  {
   "cell_type": "code",
   "execution_count": 10,
   "metadata": {},
   "outputs": [
    {
     "name": "stdout",
     "output_type": "stream",
     "text": [
      "Los años felices\n",
      "año:  2019\n",
      "año:  2020\n",
      "año:  2021\n",
      "año:  2022\n",
      "año:  2023\n"
     ]
    }
   ],
   "source": [
    "print('Los años felices')\n",
    "inicio = int(input('Desde: '))\n",
    "fin = int(input('Hasta: '))\n",
    "for i in range(inicio,fin+1):\n",
    "    print('año: ',i)"
   ]
  },
  {
   "cell_type": "markdown",
   "metadata": {},
   "source": [
    "***\n",
    "4 -  Escribir un programa que pida al usuario dos números enteros e imprimir que números son pares y cuales impares, desde el primer número ingresado al ultimo. (Controlar que el Segundo número ingresado por el usuario no sea igual al primero, debe ser siempre mayor)"
   ]
  },
  {
   "cell_type": "code",
   "execution_count": 15,
   "metadata": {},
   "outputs": [
    {
     "name": "stdout",
     "output_type": "stream",
     "text": [
      "Pares e impares\n",
      "Pares: 24 26 28 30 32 34 36 38 40 42 \n",
      "Impares: 23 25 27 29 31 33 35 37 39 41 43 \n"
     ]
    }
   ],
   "source": [
    "print('Pares e impares')\n",
    "\n",
    "inicio = int(input('Valor inicial: '))\n",
    "final = int(input('Valor final: '))\n",
    "\n",
    "if(final<inicio):\n",
    "    print('El valor final debe ser mayor al inicial')\n",
    "else:\n",
    "    p = 'Pares: '\n",
    "    i = 'Impares: '\n",
    "    for j in range(inicio,final):\n",
    "        if ((j%2) == 0):\n",
    "            p = p + str(j) + ' '\n",
    "        else:\n",
    "            i = i + str(j) + ' '\n",
    "\n",
    "    print(p+'\\n'+i)"
   ]
  },
  {
   "cell_type": "markdown",
   "metadata": {},
   "source": [
    "***\n",
    "5 –Escriba un programa que pregunte cuántos números se van a introducir, pida esos números, diga al final cuántos han sido pares y cuántos impares. Ej: “Usted ha ingresado 5 números, de los cuales 2 son pares y 3 impares”"
   ]
  },
  {
   "cell_type": "code",
   "execution_count": 4,
   "metadata": {},
   "outputs": [
    {
     "name": "stdout",
     "output_type": "stream",
     "text": [
      "Cantidad de pares e impares\n",
      "Valores ingresados: 12 Valores pares: 5 Valores impares: 7\n"
     ]
    }
   ],
   "source": [
    "print('Cantidad de pares e impares')\n",
    "p=0\n",
    "j=0\n",
    "valores = int(input('Cuantos valores enteros se van a introducir?: '))\n",
    "for i in range(1,valores+1):\n",
    "    val = int(input('Ingrese el valor {0}:'.format(i)))\n",
    "    if ((val%2) == 0):\n",
    "        p=p+1\n",
    "    else:\n",
    "        j=j+1\n",
    "print('Valores ingresados: {0} Valores pares: {1} Valores impares: {2}'.format(valores,p,j))"
   ]
  },
  {
   "cell_type": "markdown",
   "metadata": {},
   "source": [
    "***\n",
    "6 - Crea una aplicación que permita adivinar un número. La aplicación genera un número aleatorio del 1 al 100. A continuación va pidiendo números y va respondiendo si el número a adivinar es mayor o menor que el introducido,a demás de los intentos que te quedan (tienes 10 intentos para acertarlo). El programa termina cuando se acierta el número (además te dice en cuantos intentos lo has acertado), si se llega al limite de intentos te muestra el número que había generado."
   ]
  },
  {
   "cell_type": "code",
   "execution_count": 16,
   "metadata": {},
   "outputs": [
    {
     "name": "stdout",
     "output_type": "stream",
     "text": [
      "Adivina el Numero entero entre 1 y 100. Tienes 10 intentos\n",
      "Debe ser un número mayor ↑ te quedan 9 intentos\n",
      "Debe ser un número mayor ↑ te quedan 8 intentos\n",
      "Debe ser un número mayor ↑ te quedan 7 intentos\n",
      "Debe ser un número mayor ↑ te quedan 6 intentos\n",
      "Deve ser número menor ↓ te quedan 5 intentos\n",
      "Debe ser un número mayor ↑ te quedan 4 intentos\n",
      "Has acertado en 7 intentos!!😁\n"
     ]
    }
   ],
   "source": [
    "from random import randint\n",
    "print('Adivina el Numero entero entre 1 y 100. Tienes 10 intentos')\n",
    "valor = randint(1,100)\n",
    "for i in range(1,11):\n",
    "    ingresado = int(input('Ingresa un valor: '))\n",
    "    if (valor>ingresado):\n",
    "        print('Debe ser un número mayor ↑ te quedan {} intentos'.format(10-i))\n",
    "    else:\n",
    "        if (valor<ingresado):\n",
    "            print('Deve ser número menor ↓ te quedan {} intentos'.format(10-i))\n",
    "        else:\n",
    "            print('Has acertado en {} intentos!!😁'.format(i))\n",
    "            break\n",
    "    if (i==10):\n",
    "        print('No lo lograste 😒.. el número era',valor)\n"
   ]
  },
  {
   "cell_type": "markdown",
   "metadata": {},
   "source": [
    "***\n",
    "7- Algoritmo que muestre la tabla de multiplicar de los números 1,2,3,4 y 5."
   ]
  },
  {
   "cell_type": "code",
   "execution_count": 20,
   "metadata": {},
   "outputs": [
    {
     "name": "stdout",
     "output_type": "stream",
     "text": [
      "Tabla de Multiplicar\n",
      "1 x 1 = 1\t2 x 1 = 2\t3 x 1 = 3\t4 x 1 = 4\t5 x 1 = 5\n",
      "1 x 2 = 2\t2 x 2 = 4\t3 x 2 = 6\t4 x 2 = 8\t5 x 2 = 10\n",
      "1 x 3 = 3\t2 x 3 = 6\t3 x 3 = 9\t4 x 3 = 12\t5 x 3 = 15\n",
      "1 x 4 = 4\t2 x 4 = 8\t3 x 4 = 12\t4 x 4 = 16\t5 x 4 = 20\n",
      "1 x 5 = 5\t2 x 5 = 10\t3 x 5 = 15\t4 x 5 = 20\t5 x 5 = 25\n",
      "1 x 6 = 6\t2 x 6 = 12\t3 x 6 = 18\t4 x 6 = 24\t5 x 6 = 30\n",
      "1 x 7 = 7\t2 x 7 = 14\t3 x 7 = 21\t4 x 7 = 28\t5 x 7 = 35\n",
      "1 x 8 = 8\t2 x 8 = 16\t3 x 8 = 24\t4 x 8 = 32\t5 x 8 = 40\n",
      "1 x 9 = 9\t2 x 9 = 18\t3 x 9 = 27\t4 x 9 = 36\t5 x 9 = 45\n",
      "1 x 10 = 10\t2 x 10 = 20\t3 x 10 = 30\t4 x 10 = 40\t5 x 10 = 50\n"
     ]
    }
   ],
   "source": [
    "print('Tabla de Multiplicar')\n",
    "ini = 1 #inicio de la tabla\n",
    "fin = 5 #fin de la tabla\n",
    "\n",
    "for b in range(1,11):\n",
    "    for a in range(ini,fin+1):\n",
    "        if (a==fin):\n",
    "            f = '\\n'\n",
    "        else:\n",
    "            f = '\\t'\n",
    "        print('{0} x {1} = {2}'.format(a,b,a*b),end=f)"
   ]
  },
  {
   "cell_type": "markdown",
   "metadata": {},
   "source": [
    "***\n",
    "8 - Realizar un algoritmo para determinar cuánto ahorrará una persona en un año, si al final de cada mes deposita cantidades variables de dinero; además, se quiere saber cuánto lleva ahorrado cada mes"
   ]
  },
  {
   "cell_type": "code",
   "execution_count": 39,
   "metadata": {},
   "outputs": [
    {
     "name": "stdout",
     "output_type": "stream",
     "text": [
      "Calculo del ahorro Anual\n",
      "Ahorro acumulado = 0 Gs.\n",
      "Ahorro acumulado = 100.0 Gs.\n",
      "Ahorro acumulado = 300.0 Gs.\n",
      "Ahorro acumulado = 800.0 Gs.\n",
      "Ahorro acumulado = 1700.0 Gs.\n",
      "Ahorro acumulado = 2100.0 Gs.\n",
      "Ahorro acumulado = 2600.0 Gs.\n",
      "Ahorro acumulado = 3100.0 Gs.\n",
      "Ahorro acumulado = 3700.0 Gs.\n",
      "Ahorro acumulado = 4500.0 Gs.\n",
      "Ahorro acumulado = 4650.0 Gs.\n",
      "Ahorro acumulado = 4770.0 Gs.\n",
      "El ahorro anual fué de 4970.0 Gs.\n"
     ]
    }
   ],
   "source": [
    "print('Calculo del ahorro Anual')\n",
    "mes = ('Enero','Febrero','Marzo','Abril','Mayo','Junio','Julio','Agosto','Septiembre',\n",
    "       'Octubre','Noviembre','Diciembre')\n",
    "ahorro = 0\n",
    "for i in mes:\n",
    "    print('Ahorro acumulado =',ahorro,'Gs.')\n",
    "    monto = float(input('Ingrese el monto ahorrado en {}: '.format(i)))\n",
    "    ahorro = ahorro + monto\n",
    "print('El ahorro anual fué de',ahorro,'Gs.')"
   ]
  },
  {
   "cell_type": "markdown",
   "metadata": {},
   "source": [
    "***\n",
    "9 - Una persona se encuentra en el kilómetro 70 de una carretera, otra se encuentra en el km 150, los coches tienen sentido opuesto y tienen la misma velocidad. Realizar un programa para determinar en qué kilómetro de esa carretera se encontrarán."
   ]
  },
  {
   "cell_type": "code",
   "execution_count": 6,
   "metadata": {},
   "outputs": [
    {
     "name": "stdout",
     "output_type": "stream",
     "text": [
      "Encuentro de dos vehiculos en la carretera\n",
      "Los vehiculos se encontraran en el Km:  110.0\n"
     ]
    }
   ],
   "source": [
    "print('Encuentro de dos vehiculos en la carretera')\n",
    "ve1 = float (input ('Ingrese la ubicación del primer vehiculo (Km): '))\n",
    "ve2 = float (input ('Ingrese la ubicación del segundo vehiculo (Km): '))\n",
    "\n",
    "print('Los vehiculos se encontraran en el Km: ',ve1 + (ve2-ve1)/2)\n"
   ]
  },
  {
   "cell_type": "markdown",
   "metadata": {},
   "source": [
    "***\n",
    "10 - Una empresa les paga a sus empleados con base en las horas trabajadas en la semana. Para esto, se registran los días que trabajó y las horas de cada día. Realice un algoritmo para determinar el sueldo semanal de N trabajadores y además calcule cuánto pagó la empresa por los N empleados"
   ]
  },
  {
   "cell_type": "code",
   "execution_count": 21,
   "metadata": {},
   "outputs": [
    {
     "name": "stdout",
     "output_type": "stream",
     "text": [
      "Sueldo semanal de N trabajadores\n",
      "El sueldo ganado en la semana del empleado 1 es 350000.0 Gs.\n",
      "El sueldo ganado en la semana del empleado 2 es 432000.0 Gs.\n",
      "El sueldo ganado en la semana del empleado 3 es 240000.0 Gs.\n",
      "El sueldo ganado en la semana del empleado 4 es 480000.0 Gs.\n",
      "El sueldo ganado en la semana del empleado 5 es 480000.0 Gs.\n",
      "La empresa pagó a los 5 empleados un total de 1982000.0 Gs.\n"
     ]
    }
   ],
   "source": [
    "print('Sueldo semanal de N trabajadores')\n",
    "N = int(input('Ingrese el número de empleados: '))\n",
    "total = 0\n",
    "\n",
    "for i in range(1,N+1):\n",
    "    h = float(input('Cantidad de Horas trabajadas del empleado {}: '.format(i)))\n",
    "    p = float(input('Gs. por horas asignado: '))\n",
    "    sueldo = h * p\n",
    "    print('El sueldo ganado en la semana del empleado {0} es {1} Gs.'.format(i,sueldo))\n",
    "    total = total + sueldo\n",
    "print('La empresa pagó a los {0} empleados un total de {1} Gs.'.format(N,total))\n",
    "    "
   ]
  },
  {
   "cell_type": "markdown",
   "metadata": {},
   "source": [
    "***\n",
    "11 - Mostrar en pantalla los N primero número primos. Se pide por teclado la cantidad de números primos que queremos mostrar."
   ]
  },
  {
   "cell_type": "code",
   "execution_count": 3,
   "metadata": {},
   "outputs": [
    {
     "name": "stdout",
     "output_type": "stream",
     "text": [
      "N°1: 2  N°2: 3  N°3: 5  N°4: 7  N°5: 11  N°6: 13  N°7: 17  N°8: 19  N°9: 23  N°10: 29  N°11: 31  N°12: 37  N°13: 41  N°14: 43  N°15: 47  N°16: 53  N°17: 59  N°18: 61  N°19: 67  N°20: 71  "
     ]
    }
   ],
   "source": [
    "def primo(num):\n",
    "    for n in range(2,num):\n",
    "        if (num % n) == 0:\n",
    "            return False\n",
    "    return True\n",
    "\n",
    "n = int(input('Ingrese la cantidad de números primos a mostrar'))\n",
    "cantidad = 0\n",
    "numero = 2\n",
    "while(cantidad<n):\n",
    "    if(primo(numero)):\n",
    "        print('N°{1}: {0}'.format(numero,cantidad+1),end='  ')\n",
    "        cantidad+=1\n",
    "    numero+=1\n",
    "        \n"
   ]
  }
 ],
 "metadata": {
  "kernelspec": {
   "display_name": "Python 3.9.9 64-bit",
   "language": "python",
   "name": "python3"
  },
  "language_info": {
   "codemirror_mode": {
    "name": "ipython",
    "version": 3
   },
   "file_extension": ".py",
   "mimetype": "text/x-python",
   "name": "python",
   "nbconvert_exporter": "python",
   "pygments_lexer": "ipython3",
   "version": "3.9.9"
  },
  "orig_nbformat": 4,
  "vscode": {
   "interpreter": {
    "hash": "858947589ae312b46be4e9b6c1e8121937d9fe4dc7cc087105814b8203151760"
   }
  }
 },
 "nbformat": 4,
 "nbformat_minor": 2
}
