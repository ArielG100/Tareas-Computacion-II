{
 "cells": [
  {
   "cell_type": "markdown",
   "metadata": {},
   "source": [
    "# Tarea06- Numpy\n",
    "### Alumno: Arnaldo Ariel García"
   ]
  },
  {
   "cell_type": "markdown",
   "metadata": {},
   "source": [
    "1 . Explicar para que se usa la librería NumPy, ejemplificar dos 2 casos.  \n",
    "**Numpy** es una librería útil para realizar cálculos matemáticos, con numerosas herramientas capaz de manejar gran cantidad de datos y con mucha velocidad de procesamiento.\n",
    "\n",
    "2 . Investigar como instalar NumPy.  \n",
    "Para instalar Numpy en Windows. primero debemos tener el instalador de paquetes de python, luego en la linea de comandos podemos usar pip -m install numpy\n",
    "\n",
    "3 . Instalar NumPy"
   ]
  },
  {
   "cell_type": "markdown",
   "metadata": {},
   "source": [
    "4 . Utilizando NumPy  \n",
    "- Crear una matriz de ceros\n",
    "- Crear una matriz de unos\n",
    "- Mostrar 2 ejemplo utilizando arange() y shape()\n",
    "- Mostrar un ejemplo de operaciones con matrices (Sumar y Restar). Uno por operación\n",
    "- Presentar 2 ejemplos de acceso a filas y columnas.\n"
   ]
  },
  {
   "cell_type": "code",
   "execution_count": 1,
   "metadata": {},
   "outputs": [
    {
     "name": "stdout",
     "output_type": "stream",
     "text": [
      "Matriz de ceros-----\n",
      "[[0. 0. 0. 0.]\n",
      " [0. 0. 0. 0.]\n",
      " [0. 0. 0. 0.]]\n",
      "Matriz de Unos------\n",
      "[[[1. 1.]\n",
      "  [1. 1.]\n",
      "  [1. 1.]\n",
      "  [1. 1.]]\n",
      "\n",
      " [[1. 1.]\n",
      "  [1. 1.]\n",
      "  [1. 1.]\n",
      "  [1. 1.]]]\n",
      "Matriz vacia------\n",
      "[[6.23042070e-307 3.56043053e-307 1.60219306e-306]\n",
      " [2.44763557e-307 1.69119330e-306 1.78022342e-306]]\n",
      "Secuencia 1:  [10 15 20 25]\n",
      "Secuencia 2:  [ 1  3  5  7  9 11 13 15 17 19]\n",
      "Dimensiones (2, 4, 2)\n",
      "Suma ------\n",
      "[[ 3 -4  7]\n",
      " [ 5  6 -6]\n",
      " [12 10  3]]\n",
      "[[ 3 -4  7]\n",
      " [ 5  6 -6]\n",
      " [12 10  3]]\n",
      "Resta------\n",
      "[[  1  -6   5]\n",
      " [  1   2 -10]\n",
      " [  6   4  -3]]\n",
      "[[  1  -6   5]\n",
      " [  1   2 -10]\n",
      " [  6   4  -3]]\n",
      "Multiplicacion------\n",
      "[[  2  -5   6]\n",
      " [  6   8 -16]\n",
      " [ 27  21   0]]\n",
      "[[  2  -5   6]\n",
      " [  6   8 -16]\n",
      " [ 27  21   0]]\n",
      "Modificar elemento de matriz\n",
      "[[ 2 -5  6]\n",
      " [ 3  4 -8]\n",
      " [ 9  7  0]]\n",
      "[[ 2 -5  6]\n",
      " [ 3  0 -8]\n",
      " [ 9  7  0]]\n",
      "Valor absoluto\n",
      "[[2 5 6]\n",
      " [3 0 8]\n",
      " [9 7 0]]\n",
      "<numpy.nditer object at 0x0000022F2FD4D1B0>\n",
      "2 » -5 » 6 » 3 » 0 » -8 » 9 » 7 » 0 » "
     ]
    }
   ],
   "source": [
    "import numpy as np\n",
    "\n",
    "print('Matriz de ceros-----')\n",
    "ceros = np.zeros((3,4))\n",
    "print(ceros)\n",
    "\n",
    "print('Matriz de Unos------')\n",
    "unos = np.ones((2,4,2))\n",
    "print (unos)\n",
    "\n",
    "print('Matriz vacia------')\n",
    "vacia = np.empty((2,3))\n",
    "print (vacia)\n",
    "\n",
    "sec1 = np.arange(10,30,5)\n",
    "sec2 = np.arange(1,20,2)\n",
    "print('Secuencia 1: ',sec1)\n",
    "print('Secuencia 2: ',sec2)\n",
    "print('Dimensiones',unos.shape)\n",
    "\n",
    "a = np.array([[2,-5,6],[3,4,-8],[9,7,0]])\n",
    "b = np.array([[1,1,1],[2,2,2],[3,3,3]])\n",
    "\n",
    "print('Suma ------')\n",
    "print(a+b)\n",
    "print(np.add(a,b))\n",
    "print('Resta------')\n",
    "print(a-b)\n",
    "print(np.subtract(a,b))\n",
    "print('Multiplicacion------')\n",
    "print(np.multiply(a,b))\n",
    "print(a*b)\n",
    "\n",
    "print('Modificar elemento de matriz')\n",
    "print(a)\n",
    "a[1,1]=0\n",
    "print(a)\n",
    "\n",
    "print('Valor absoluto')\n",
    "print(np.abs(a))\n",
    "\n",
    "print(np.nditer(a))\n",
    "for x in np.nditer(a):\n",
    "    print(x, end=' » ')"
   ]
  },
  {
   "cell_type": "markdown",
   "metadata": {},
   "source": [
    "5 . Crear un módulo propio e importar como módulo en otro programa para poder utilizar las funciones definidas en el (ver http://docs.python.org.ar/tutorial/3/modules.html)\n",
    "\n"
   ]
  },
  {
   "cell_type": "code",
   "execution_count": null,
   "metadata": {},
   "outputs": [],
   "source": [
    "import numpy as np\n",
    "print(np.abs(-20))"
   ]
  },
  {
   "cell_type": "markdown",
   "metadata": {},
   "source": [
    "6 . Utilizando la librería numpy, realizar una función que reciba como parámetro dos matrices y retorne la  multiplicación entre ellas. Ej: multiplica_matrices(parametro1, parametro2)\n"
   ]
  },
  {
   "cell_type": "markdown",
   "metadata": {},
   "source": [
    "7 . Escriba una función  utilizando NumPy para calcular el valor absoluto por elementos. \n",
    "     Ejemplo: valor_absoluto([-13.2, 162.5, .20]) y retorne [13 , 162.5, 0.2]\n"
   ]
  },
  {
   "cell_type": "markdown",
   "metadata": {},
   "source": [
    "8 . Escriba un programa NumPy para crear una matriz de 3X4 e iterar sobre él. Investigar sobre nditer. (El ejemplo del ejercicio está en el PDF de la clase)"
   ]
  },
  {
   "cell_type": "code",
   "execution_count": null,
   "metadata": {},
   "outputs": [],
   "source": []
  }
 ],
 "metadata": {
  "kernelspec": {
   "display_name": "Python 3.10.7 64-bit",
   "language": "python",
   "name": "python3"
  },
  "language_info": {
   "codemirror_mode": {
    "name": "ipython",
    "version": 3
   },
   "file_extension": ".py",
   "mimetype": "text/x-python",
   "name": "python",
   "nbconvert_exporter": "python",
   "pygments_lexer": "ipython3",
   "version": "3.10.7"
  },
  "orig_nbformat": 4,
  "vscode": {
   "interpreter": {
    "hash": "9b4d75ac280b6c7c3aa43866cb82dc88915409b55fec83a093dd0284cb58708e"
   }
  }
 },
 "nbformat": 4,
 "nbformat_minor": 2
}
