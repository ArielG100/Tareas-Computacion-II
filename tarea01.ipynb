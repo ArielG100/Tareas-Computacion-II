{
 "cells": [
  {
   "cell_type": "markdown",
   "metadata": {},
   "source": [
    "# Tarea01 de Computacíon 2 - Secuenciales\n",
    "### Alumno: Arnaldo Ariel García"
   ]
  },
  {
   "cell_type": "markdown",
   "metadata": {},
   "source": [
    "***\n",
    "**Ejercicio 1**\n",
    "Escribir un programa que pregunte al usuario su nombre, y luego lo salude."
   ]
  },
  {
   "cell_type": "code",
   "execution_count": 1,
   "metadata": {},
   "outputs": [
    {
     "name": "stdout",
     "output_type": "stream",
     "text": [
      "Nombre ingresado: Ariel\n",
      "Que tengas un lindo día Ariel\n"
     ]
    }
   ],
   "source": [
    "nombre = input(\"Escriba su nombre: \")\n",
    "print(\"Nombre ingresado: \"+nombre)\n",
    "print(\"Que tengas un lindo día \"+nombre)"
   ]
  },
  {
   "cell_type": "markdown",
   "metadata": {},
   "source": [
    "***\n",
    "**Ejercicio 2**\n",
    "Calcular el perímetro y área de un rectángulo dada su base y su altura."
   ]
  },
  {
   "cell_type": "code",
   "execution_count": 2,
   "metadata": {},
   "outputs": [
    {
     "name": "stdout",
     "output_type": "stream",
     "text": [
      "Calculo del rectángulo\n",
      "El perimetro del rectángulo es: 14.0\n",
      "El area del rectángulo es:  12.0\n"
     ]
    }
   ],
   "source": [
    "print('Calculo del rectángulo')\n",
    "b = float (input ('Ingrese el valor de base: '))\n",
    "h = float (input ('Ingrese el valor de alrtura: '))\n",
    "p = 2*(b+h)\n",
    "a = h*b\n",
    "print ('El perimetro del rectángulo es: ' + str(p))\n",
    "print ('El area del rectángulo es: ',a)"
   ]
  },
  {
   "cell_type": "markdown",
   "metadata": {},
   "source": [
    "***\n",
    "**Ejercicio 3**\n",
    "Dados los catetos de un triángulo rectángulo, calcular su hipotenusa."
   ]
  },
  {
   "cell_type": "code",
   "execution_count": 3,
   "metadata": {},
   "outputs": [
    {
     "name": "stdout",
     "output_type": "stream",
     "text": [
      "Calculo de la hipotenusa de un triángulo rectángulo\n",
      "Cateto 1 es: 3.0\n",
      "Cateto 2 es: 4.0\n",
      "La hipotenusa mide:  5.0\n"
     ]
    }
   ],
   "source": [
    "from math import sqrt\n",
    "\n",
    "print('Calculo de la hipotenusa de un triángulo rectángulo')\n",
    "c1 = float (input ('Ingrese el valor del primer cateto: '))\n",
    "c2 = float (input ('Ingrese el valor del segundo cateto: '))\n",
    "p = sqrt(c1**2 + pow(c2,2))\n",
    "print ('Cateto 1 es: ' + str(c1))\n",
    "print ('Cateto 2 es: ' + str(c2))\n",
    "print ('La hipotenusa mide: ', p)"
   ]
  },
  {
   "cell_type": "markdown",
   "metadata": {},
   "source": [
    "***\n",
    "**Ejercicio 4**\n",
    "Dados dos números, mostrar la suma, resta, división y multiplicación de ambos."
   ]
  },
  {
   "cell_type": "code",
   "execution_count": 8,
   "metadata": {},
   "outputs": [
    {
     "name": "stdout",
     "output_type": "stream",
     "text": [
      "Operaciones matemáticas básicas\n",
      "Suma:  7.0\n",
      "Resta:  1.0\n",
      "Multiplicación: 12.0\n",
      "División: 1.3333333333333333\n"
     ]
    }
   ],
   "source": [
    "print('Operaciones matemáticas básicas')\n",
    "a = float (input ('Ingrese el primer valor: '))\n",
    "b = float (input ('Ingrese el segundo valor: '))\n",
    "\n",
    "print ('Suma: ',a+b)\n",
    "print ('Resta: ',a-b)\n",
    "print ('Multiplicación: ' + str(a*b))\n",
    "print ('División: ' + str(a/b))"
   ]
  },
  {
   "cell_type": "markdown",
   "metadata": {},
   "source": [
    "***\n",
    "**Ejercicio 5**\n",
    "Escribir un programa que convierta un valor dado en grados Fahrenheit a grados Celsius. Recordar que la fórmula para la conversión es:\n",
    "C = (F-32)*5/9"
   ]
  },
  {
   "cell_type": "code",
   "execution_count": 10,
   "metadata": {},
   "outputs": [
    {
     "name": "stdout",
     "output_type": "stream",
     "text": [
      "Conversión de °F a °C\n",
      "100.0 °F equivalen a:  37.77777777777778 °C\n"
     ]
    }
   ],
   "source": [
    "print('Conversión de °F a °C')\n",
    "farenheit = float (input ('Ingrese la temperatura en Farenheit: '))\n",
    "celsius = (farenheit-32)*5/9\n",
    "\n",
    "print (farenheit,'°F equivalen a: ',celsius,'°C')"
   ]
  },
  {
   "cell_type": "markdown",
   "metadata": {},
   "source": [
    "***\n",
    "**Ejercicio 6**\n",
    "Calcular la media de tres números pedidos por teclado."
   ]
  },
  {
   "cell_type": "code",
   "execution_count": 1,
   "metadata": {},
   "outputs": [
    {
     "name": "stdout",
     "output_type": "stream",
     "text": [
      "Media aritmética\n",
      "La media aritmética de  33.0 44.0 55.0 igual a:  44.0\n"
     ]
    }
   ],
   "source": [
    "print('Media aritmética')\n",
    "n1 = float (input ('Ingrese el valor 1: '))\n",
    "n2 = float (input ('Ingrese el valor 2: '))\n",
    "n3 = float (input ('Ingrese el valor 3: '))\n",
    "\n",
    "print ('La media aritmética de ', n1 , n2, n3,'igual a: ',(n1+n2+n3)/3)"
   ]
  },
  {
   "cell_type": "markdown",
   "metadata": {},
   "source": [
    "***\n",
    "**Ejercicio 7**\n",
    "Realiza un programa que reciba una cantidad de minutos y muestre por pantalla a cuantas horas y minutos corresponde. Por ejemplo: 1000 minutos son 16 horas y 40 minutos."
   ]
  },
  {
   "cell_type": "code",
   "execution_count": 12,
   "metadata": {},
   "outputs": [
    {
     "name": "stdout",
     "output_type": "stream",
     "text": [
      "Conversion de minutos\n",
      "1000 minutos corresponden a  16 horas y  40 minutos\n"
     ]
    }
   ],
   "source": [
    "print('Conversion de minutos')\n",
    "minutos = int (input ('Ingrese la cantidad en minutos: '))\n",
    "\n",
    "h = minutos // 60\n",
    "m = (minutos % 60)\n",
    "\n",
    "print (str(minutos) + ' minutos corresponden a ', h , 'horas y ', m,'minutos')"
   ]
  },
  {
   "cell_type": "markdown",
   "metadata": {},
   "source": [
    "***\n",
    "**Ejercicio 8**\n",
    "Un vendedor recibe un sueldo base mas un 10% extra por comisión de sus ventas, el vendedor desea saber cuanto dinero obtendrá por concepto de comisiones por las tres ventas que realiza en el mes y el total que recibirá en el mes tomando en cuenta su sueldo base y comisiones."
   ]
  },
  {
   "cell_type": "code",
   "execution_count": 13,
   "metadata": {},
   "outputs": [
    {
     "name": "stdout",
     "output_type": "stream",
     "text": [
      "Sueldo por ventas\n",
      "Usted recibirá  100000.0  como comisión y su sueldo total será de  1100000.0\n"
     ]
    }
   ],
   "source": [
    "print('Sueldo por ventas')\n",
    "base = int (input ('Ingrese el sueldo base: '))\n",
    "venta1 = int (input ('Ingrese el valor de la 1° venta: '))\n",
    "venta2 = int (input ('Ingrese el valor de la 2° venta: '))\n",
    "venta3 = int (input ('Ingrese el valor de la 3° venta: '))\n",
    "\n",
    "comisión = (venta1 + venta2 + venta3) * 0.1\n",
    "sueldo = base + comisión\n",
    "\n",
    "print ('Usted recibirá ', comisión,' como comisión y su sueldo total será de ', sueldo)"
   ]
  },
  {
   "cell_type": "markdown",
   "metadata": {},
   "source": [
    "***\n",
    "**Ejercicio 9**\n",
    "Una tienda ofrece un descuento del 15% sobre el total de la compra y un cliente desea saber cuanto deberá pagar finalmente por su compra."
   ]
  },
  {
   "cell_type": "code",
   "execution_count": 1,
   "metadata": {},
   "outputs": [
    {
     "name": "stdout",
     "output_type": "stream",
     "text": [
      "Compra con Descuento del 15%\n",
      "Usted tuvo un descuento del 15% y debe pagar  238000.0\n",
      "Muchas gracias. Vuelva pronto!!\n"
     ]
    }
   ],
   "source": [
    "print('Compra con Descuento del 15%')\n",
    "importe = int (input ('Ingrese el importe total de la compra: '))\n",
    "descuento = importe * 0.15\n",
    "costo = importe - descuento\n",
    "\n",
    "print ('Usted tuvo un descuento del 15% y debe pagar ', costo)\n",
    "print ('Muchas gracias. Vuelva pronto!!')"
   ]
  },
  {
   "cell_type": "markdown",
   "metadata": {},
   "source": [
    "***\n",
    "**Ejercicio 10**\n",
    "Un alumno desea saber cual será su calificación final en la materia de Algoritmos. Dicha calificación se compone de los siguientes porcentajes:\n",
    "\n",
    "55% del promedio de sus tres calificaciones parciales.\n",
    "30% de la calificación del examen final.\n",
    "15% de la calificación de un trabajo final."
   ]
  },
  {
   "cell_type": "code",
   "execution_count": 3,
   "metadata": {},
   "outputs": [
    {
     "name": "stdout",
     "output_type": "stream",
     "text": [
      "Cálculo de la calificacion Final. valores (1 a 10)\n",
      "Su calificacion final es:  7.933333333333334\n"
     ]
    }
   ],
   "source": [
    "print('Cálculo de la calificacion Final. valores (1 a 10)')\n",
    "parcial1 = int (input ('Ingrese su calificación del parcial 1: '))\n",
    "parcial2 = int (input ('Ingrese su calificación del parcial 2: '))\n",
    "parcial3 = int (input ('Ingrese su calificación del parcial 3: '))\n",
    "examen = int (input ('Ingrese su calificación del examen final: '))\n",
    "trabajo = int (input ('Ingrese su calificación del trabajo practico: '))\n",
    "calificacion = (parcial1 + parcial2 + parcial3) / 3 * 0.55 + examen * 0.3 + trabajo * 0.15\n",
    "\n",
    "print ('Su calificacion final es: ', calificacion)"
   ]
  },
  {
   "cell_type": "markdown",
   "metadata": {},
   "source": [
    "***\n",
    "**Ejercicio 11**\n",
    "Pide al usuario dos números y muestra la “distancia” entre ellos (el valor absoluto de su diferencia, de modo que el resultado sea siempre positivo)."
   ]
  },
  {
   "cell_type": "code",
   "execution_count": 5,
   "metadata": {},
   "outputs": [
    {
     "name": "stdout",
     "output_type": "stream",
     "text": [
      "Cálculo de la distacia entre dos numeros\n",
      "La distancia entre 11 y 35 es igual a 24\n"
     ]
    }
   ],
   "source": [
    "print('Cálculo de la distacia entre dos numeros')\n",
    "numero1 = int (input ('Ingrese el primer valor: '))\n",
    "numero2 = int (input ('Ingrese el segundo valor: '))\n",
    "\n",
    "distancia = abs(numero1 - numero2) \n",
    "# tambien puede ser obtenido por la raiz cuadrada \n",
    "# de la suma de ambos numeros elevado al cuadrado\n",
    "print ('La distancia entre', numero1, 'y', numero2, 'es igual a',distancia)"
   ]
  },
  {
   "cell_type": "markdown",
   "metadata": {},
   "source": [
    "***\n",
    "**Ejercicio 12**\n",
    "Pide al usuario dos pares de números x1,y2 y x2,y2, que representen dos puntos en el plano. Calcula y muestra la distancia entre ellos."
   ]
  },
  {
   "cell_type": "code",
   "execution_count": 6,
   "metadata": {},
   "outputs": [
    {
     "name": "stdout",
     "output_type": "stream",
     "text": [
      "Cálculo de la distacia entre dos puntos\n",
      "La distancia entre los puntos ( 2 , 3 ) y ( 4 , 5 ) es  2.8284271247461903\n"
     ]
    }
   ],
   "source": [
    "from math import sqrt\n",
    "\n",
    "print('Cálculo de la distacia entre dos puntos')\n",
    "x1 = int (input ('Ingrese el valor de x1: '))\n",
    "y1 = int (input ('Ingrese el valor de y1: '))\n",
    "x2 = int (input ('Ingrese el valor de x2: '))\n",
    "y2 = int (input ('Ingrese el valor de y2: '))\n",
    "\n",
    "xmed = abs(x1 - x2)\n",
    "ymed = abs(y1 - y2)\n",
    "dist = sqrt( pow(xmed,2) + pow(ymed,2) )\n",
    "print ('La distancia entre los puntos (', x1, ',', y1,') ',end='')\n",
    "print ('y (', x2, ',', y2,') es ',dist)"
   ]
  },
  {
   "cell_type": "markdown",
   "metadata": {},
   "source": [
    "***\n",
    "**Ejercicio 13**\n",
    "Realizar un algoritmos que lea un número y que muestre su raíz cuadrada y su raíz cúbica. Python no tiene ninguna función predefinida que permita calcular la raíz cúbica, ¿Cómo se puede calcular?"
   ]
  },
  {
   "cell_type": "code",
   "execution_count": 7,
   "metadata": {},
   "outputs": [
    {
     "name": "stdout",
     "output_type": "stream",
     "text": [
      "Cálculo de las raices de un número\n",
      "27 tiene una raíz cuadrada de:  5.196152422706632 y una raiz cubica de:  3.0\n"
     ]
    }
   ],
   "source": [
    "from math import sqrt\n",
    "\n",
    "print('Cálculo de las raices de un número')\n",
    "numero = int (input ('Ingrese el valor: '))\n",
    "\n",
    "rcuadrada = sqrt(numero)\n",
    "#Al escribir sqrt se ofrece importar libreria matemática. \n",
    "rcubica = numero**(1/3)\n",
    "#La raiz cúbica se puede obtener elevando a la\n",
    "#potencia de 1/3\n",
    "\n",
    "print (numero,'tiene una raíz cuadrada de: ', rcuadrada, 'y una raiz cubica de: ', rcubica)"
   ]
  },
  {
   "cell_type": "markdown",
   "metadata": {},
   "source": [
    "***\n",
    "**Ejercicio 14**\n",
    "Dado un número de dos cifras, diseñe un algoritmo que permita obtener el número invertido. Ejemplo, si se introduce 23 que muestre 32."
   ]
  },
  {
   "cell_type": "code",
   "execution_count": 9,
   "metadata": {},
   "outputs": [
    {
     "name": "stdout",
     "output_type": "stream",
     "text": [
      "Invertir números\n",
      "Ingresaste el numero: 10 y su valor invertido es: 01\n"
     ]
    }
   ],
   "source": [
    "print('Invertir números')\n",
    "numero = int (input ('Ingrese dos digitos: '))\n",
    "\n",
    "dig1 = numero // 10\n",
    "dig2 = numero % 10\n",
    "invertido = str(dig2) + str(dig1)\n",
    "if((dig1==0) or (dig1>9)):\n",
    "    print('Solo se aceptan valores de dos digitos!')\n",
    "else:\n",
    "    print ('Ingresaste el numero:', numero, 'y su valor invertido es:',invertido)"
   ]
  },
  {
   "cell_type": "markdown",
   "metadata": {},
   "source": [
    "***\n",
    "**Ejercicio 15**\n",
    "Dadas dos variables numéricas A y B, que el usuario debe teclear, se pide realizar un algoritmo que intercambie los valores de ambas variables y muestre cuanto valen al final las dos variables."
   ]
  },
  {
   "cell_type": "code",
   "execution_count": 10,
   "metadata": {},
   "outputs": [
    {
     "name": "stdout",
     "output_type": "stream",
     "text": [
      "Invertir valores de Variables\n",
      "los valores son A: 25.0  B: 114.0\n",
      "invirtiendo da  A: 114.0  B; 25.0\n"
     ]
    }
   ],
   "source": [
    "print('Invertir valores de Variables')\n",
    "A = float (input ('Ingrese el valor de A: '))\n",
    "B = float (input ('Ingrese el valor de B: '))\n",
    "\n",
    "print('los valores son A:',A,' B:',B)\n",
    "temp = B\n",
    "B = A\n",
    "A = temp\n",
    "# tambien puede hacerce con A,B = B,A\n",
    "print('invirtiendo da  A:',A,' B;',B)"
   ]
  },
  {
   "cell_type": "markdown",
   "metadata": {},
   "source": [
    "***\n",
    "**Ejercicio 16**\n",
    "Dos vehículos viajan a diferentes velocidades (v1 y v2) y están distanciados por una distancia d. El que está detrás viaja a una velocidad mayor. Se pide hacer un algoritmo para ingresar la distancia entre los dos vehículos (km) y sus respectivas velocidades (km/h) y con esto determinar y mostrar en que tiempo (minutos) alcanzará el vehículo más rápido al otro."
   ]
  },
  {
   "cell_type": "markdown",
   "metadata": {},
   "source": [
    "![problema](https://encrypted-tbn0.gstatic.com/images?q=tbn:ANd9GcR7f9UiK-R7JEGmnr5YhnQohECWHnY3zbzQgw&usqp=CAU \"Dos\")\n",
    "$$ v=s/t $$\n",
    "$$ t=d/(v_1-v_2) $$\n",
    "$$ d=10km.... v_1=150km/h.... v_2=100km/h $$\n",
    "$$ t=d/(v_1-v_2) *60=12min$$\n"
   ]
  },
  {
   "cell_type": "code",
   "execution_count": 1,
   "metadata": {},
   "outputs": [
    {
     "name": "stdout",
     "output_type": "stream",
     "text": [
      "Encuentro de dos vehiculos separados a una distancia con diferentes velocidades\n",
      "El vehiculo de atras alcanzará al otro en: 12.0 minutos\n"
     ]
    }
   ],
   "source": [
    "print('Encuentro de dos vehiculos separados a una distancia con diferentes velocidades')\n",
    "distancia = float (input ('Ingrese la distancia (Km): '))\n",
    "vel1 = float (input ('Ingrese la velocidad (Km/h) del vehiculo de atras: '))\n",
    "vel2 = float (input ('Ingrese la velocidad (Km/h) del vehiculo de adelante: '))\n",
    "\n",
    "tiempo = distancia / (vel1 - vel2) * 60\n",
    "if (tiempo>0):\n",
    "    print('El vehiculo de atras alcanzará al otro en:',tiempo, 'minutos')\n",
    "else:\n",
    "    print('El vehiculo de atras no puede alcanzar al otro vehiculo')"
   ]
  },
  {
   "cell_type": "markdown",
   "metadata": {},
   "source": [
    "***\n",
    "**Ejercicio 17**\n",
    "Un ciclista parte de una ciudad A a las HH horas, MM minutos y SS segundos. El tiempo de viaje hasta llegar a otra ciudad B es de T segundos. Escribir un algoritmo que determine la hora de llegada a la ciudad B."
   ]
  },
  {
   "cell_type": "code",
   "execution_count": 2,
   "metadata": {},
   "outputs": [
    {
     "name": "stdout",
     "output_type": "stream",
     "text": [
      "Tiempo de viaje en bicicleta\n",
      "Si partes a las 13:10:15 y el viaje dura 0:16:40 llegaras a las 13:26:55\n"
     ]
    }
   ],
   "source": [
    "from datetime import timedelta\n",
    "\n",
    "print('Tiempo de viaje en bicicleta')\n",
    "HH, MM, SS = input ('Ingresar HH:MM:SS de partida separados por dos puntos(:) '). split (sep=':')\n",
    "#split separa los elementos de la cadena utilizando como separador :\n",
    "Duracion = int(input('Ingresa la duracion del viaje en segundos: '))\n",
    "T1 = timedelta(hours=int(HH),minutes=int(MM),seconds=int(SS))\n",
    "T2 = timedelta(hours=0,minutes=0,seconds=Duracion)\n",
    "#timedelta Establece el tiempo a partir de los parametros dados\n",
    "\n",
    "print('Si partes a las',T1,'y el viaje dura',T2,'llegaras a las',T1 + T2)"
   ]
  },
  {
   "cell_type": "markdown",
   "metadata": {},
   "source": [
    "***\n",
    "**Ejercicio 18**\n",
    "Pedir el nombre y los dos apellidos de una persona y mostrar las iniciales."
   ]
  },
  {
   "cell_type": "code",
   "execution_count": 3,
   "metadata": {},
   "outputs": [
    {
     "name": "stdout",
     "output_type": "stream",
     "text": [
      "Iniciales\n",
      "Tus iniciales son: A G M\n"
     ]
    }
   ],
   "source": [
    "import string\n",
    "\n",
    "print('Iniciales')\n",
    "nombre,ape1,ape2 = input('Ingresa tu nombre y dos apellidos: ').split()\n",
    "Nombre = string.capwords(nombre) #mayuscula en las primeras letras de una cadena de palabras\n",
    "Ape1 = string.capwords(ape1)\n",
    "Ape2 = ape2.upper() #Coloca en mayuscula toda la cadena de texto\n",
    "print('Tus iniciales son:',Nombre[0],Ape1[0],Ape2[0])"
   ]
  },
  {
   "cell_type": "markdown",
   "metadata": {},
   "source": [
    "***\n",
    "**Ejercicio 19**\n",
    "Escribir un algoritmo para calcular la nota final de un estudiante, considerando que: por cada respuesta correcta 5 puntos, por una incorrecta -1 y por respuestas en blanco 0. Imprime el resultado obtenido por el estudiante."
   ]
  },
  {
   "cell_type": "code",
   "execution_count": 4,
   "metadata": {},
   "outputs": [
    {
     "name": "stdout",
     "output_type": "stream",
     "text": [
      "Puntaje acumulado por las respuestas\n",
      "De 45 puntos hiciste 40 puntos que es el 88.88888888888889 %\n"
     ]
    }
   ],
   "source": [
    "print('Puntaje acumulado por las respuestas')\n",
    "correctas = int(input('Respuestas correctas: '))\n",
    "incorrectas = int(input('Respuestas incorrectas: '))\n",
    "blancas = int(input('Respuestas blancas: '))\n",
    "puntaje = correctas * 5 - incorrectas\n",
    "total = (correctas+incorrectas+blancas)*5\n",
    "print('De',total,'puntos hiciste',puntaje,'puntos','que es el',puntaje/total*100,'%')"
   ]
  },
  {
   "cell_type": "markdown",
   "metadata": {},
   "source": [
    "***\n",
    "**Ejercicio 20**\n",
    "Diseñar un algoritmo que nos diga el dinero que tenemos en monedas(en guaraníes)"
   ]
  },
  {
   "cell_type": "code",
   "execution_count": 5,
   "metadata": {},
   "outputs": [
    {
     "name": "stdout",
     "output_type": "stream",
     "text": [
      "Cantidad de monedas en guaranies\n",
      "Tienes 268 monedas de mil, o 536 monedas de 500\n"
     ]
    }
   ],
   "source": [
    "print('Cantidad de monedas en guaranies')\n",
    "dinero = int(input('Cuantos guaranies tienes?: '))\n",
    "mil = dinero // 1000\n",
    "quini = dinero // 500\n",
    "print('Tienes',mil,'monedas de mil, o',quini,'monedas de 500')\n",
    "#no entendi este problema"
   ]
  }
 ],
 "metadata": {
  "kernelspec": {
   "display_name": "Python 3.10.7 64-bit",
   "language": "python",
   "name": "python3"
  },
  "language_info": {
   "codemirror_mode": {
    "name": "ipython",
    "version": 3
   },
   "file_extension": ".py",
   "mimetype": "text/x-python",
   "name": "python",
   "nbconvert_exporter": "python",
   "pygments_lexer": "ipython3",
   "version": "3.10.7"
  },
  "orig_nbformat": 4,
  "vscode": {
   "interpreter": {
    "hash": "9b4d75ac280b6c7c3aa43866cb82dc88915409b55fec83a093dd0284cb58708e"
   }
  }
 },
 "nbformat": 4,
 "nbformat_minor": 2
}
