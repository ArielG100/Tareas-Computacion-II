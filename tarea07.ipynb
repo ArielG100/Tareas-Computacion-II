{
 "cells": [
  {
   "cell_type": "markdown",
   "metadata": {},
   "source": [
    "## Tarea07 - Vectores con Numpy\n",
    "### Alumno: Arnaldo Ariel García\n"
   ]
  },
  {
   "cell_type": "markdown",
   "metadata": {},
   "source": [
    "***\n",
    "1- Crear un vector con valores dentro del rango 10 a 49"
   ]
  },
  {
   "cell_type": "code",
   "execution_count": 2,
   "metadata": {},
   "outputs": [
    {
     "name": "stdout",
     "output_type": "stream",
     "text": [
      "[10 11 12 13 14 15 16 17 18 19 20 21 22 23 24 25 26 27 28 29 30 31 32 33\n",
      " 34 35 36 37 38 39 40 41 42 43 44 45 46 47 48 49]\n"
     ]
    }
   ],
   "source": [
    "import numpy as np\n",
    "\n",
    "vector = np.arange(10,50)\n",
    "print(vector)"
   ]
  },
  {
   "cell_type": "markdown",
   "metadata": {},
   "source": [
    "***\n",
    "2- Invertir el vector"
   ]
  },
  {
   "cell_type": "code",
   "execution_count": 78,
   "metadata": {},
   "outputs": [
    {
     "name": "stdout",
     "output_type": "stream",
     "text": [
      "[9 8 6 5 3 2]\n"
     ]
    }
   ],
   "source": [
    "vector = np.array([2,3,5,6,8,9])\n",
    "print(np.flip(vector))\n"
   ]
  },
  {
   "cell_type": "markdown",
   "metadata": {},
   "source": [
    "***\n",
    "3- Crear una matriz 3x3 con valores 1 a 9 y luego de 0 a 8"
   ]
  },
  {
   "cell_type": "code",
   "execution_count": 59,
   "metadata": {},
   "outputs": [
    {
     "name": "stdout",
     "output_type": "stream",
     "text": [
      "[[1 2 3]\n",
      " [4 5 6]\n",
      " [7 8 9]]\n",
      "[[0 1 2]\n",
      " [3 4 5]\n",
      " [6 7 8]]\n",
      "[[-5 -4 -3 -2 -1  0  1  2  3]\n",
      " [ 4  5  6  7  8  9 10 11 12]]\n"
     ]
    }
   ],
   "source": [
    "def matriz(ini,fila,colu):\n",
    "    matriz = np.arange(ini,fila*colu+ini)\n",
    "    mat2 = np.reshape(matriz,(fila,colu))\n",
    "    print(mat2)\n",
    "    \n",
    "matriz(1,3,3)   #(inicio,fila,columna)\n",
    "matriz(0,3,3)\n",
    "matriz(-5,2,9)"
   ]
  },
  {
   "cell_type": "markdown",
   "metadata": {},
   "source": [
    "***\n",
    "4- Encontrar los índices que no son ceros del arreglo [1,2,0,2,4,0,1,0,0,0,0,4,5,6,7,0]"
   ]
  },
  {
   "cell_type": "code",
   "execution_count": 73,
   "metadata": {},
   "outputs": [
    {
     "name": "stdout",
     "output_type": "stream",
     "text": [
      "[ 0  1  3  4  6 11 12 13 14]\n"
     ]
    }
   ],
   "source": [
    "arreglo = [1,2,0,2,4,0,1,0,0,0,0,4,5,6,7,0]\n",
    "print(np.nonzero(arreglo)[0])"
   ]
  },
  {
   "cell_type": "markdown",
   "metadata": {},
   "source": [
    "***\n",
    "5- Crear un vector de 10 elementos con valores aleatorios."
   ]
  },
  {
   "cell_type": "code",
   "execution_count": 40,
   "metadata": {},
   "outputs": [
    {
     "name": "stdout",
     "output_type": "stream",
     "text": [
      "[75. 54. 94. 86. 54. 22. 87. 21. 24. 77.]\n"
     ]
    }
   ],
   "source": [
    "import random as rnd\n",
    "import numpy as np\n",
    "vector = []\n",
    "for i in range(10):\n",
    "    valor = rnd.randint(0,100)\n",
    "    vector = np.append(vector,valor)\n",
    "\n",
    "print(vector)"
   ]
  },
  {
   "cell_type": "markdown",
   "metadata": {},
   "source": [
    "***\n",
    "6- Crear una matriz de 6x6 y que sus borde sean uno (1 )y en su interior se cero (0)"
   ]
  },
  {
   "cell_type": "code",
   "execution_count": 34,
   "metadata": {},
   "outputs": [
    {
     "name": "stdout",
     "output_type": "stream",
     "text": [
      "1 1 1 1 1 1\n",
      "1 0 0 0 0 1\n",
      "1 0 0 0 0 1\n",
      "1 0 0 0 0 1\n",
      "1 0 0 0 0 1\n",
      "1 1 1 1 1 1\n"
     ]
    }
   ],
   "source": [
    "def cuadro1y0(fila,colu):\n",
    "    for i in range(fila):\n",
    "        print('1',end='')\n",
    "        for j in range(colu-2):\n",
    "            if (i==0)or(i==fila-1):\n",
    "                print(' 1',end='')\n",
    "            else:\n",
    "                print(' 0',end='')\n",
    "        print(' 1')\n",
    "\n",
    "cuadro1y0(6,6)\n",
    "#cuadro1y0(14,41)"
   ]
  },
  {
   "cell_type": "markdown",
   "metadata": {},
   "source": [
    "***\n",
    "7- Crear dos vectores al azar de la misma dimensión y comprobar si son iguales."
   ]
  },
  {
   "cell_type": "code",
   "execution_count": 182,
   "metadata": {},
   "outputs": [
    {
     "name": "stdout",
     "output_type": "stream",
     "text": [
      "[7, 3]\n",
      "[7, 3]\n",
      "Son iguales!!\n"
     ]
    }
   ],
   "source": [
    "dim = 2\n",
    "v1 = np.random.randint(0,9,dim).tolist()\n",
    "v2 = np.random.randint(0,9,dim).tolist()\n",
    "print(v1)\n",
    "print(v2)\n",
    "if v1==v2:\n",
    "    print('Son iguales!!')\n",
    "else:\n",
    "    print('Distintos..')\n"
   ]
  }
 ],
 "metadata": {
  "interpreter": {
   "hash": "f4fde45515710cbe4f4cf44a8ddef1b298277709bd6c5462499553af68a98f2e"
  },
  "kernelspec": {
   "display_name": "Python 3.10.2 64-bit",
   "language": "python",
   "name": "python3"
  },
  "language_info": {
   "codemirror_mode": {
    "name": "ipython",
    "version": 3
   },
   "file_extension": ".py",
   "mimetype": "text/x-python",
   "name": "python",
   "nbconvert_exporter": "python",
   "pygments_lexer": "ipython3",
   "version": "3.10.2"
  },
  "orig_nbformat": 4
 },
 "nbformat": 4,
 "nbformat_minor": 2
}
