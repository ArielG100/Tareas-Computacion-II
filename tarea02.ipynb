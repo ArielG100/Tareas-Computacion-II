{
 "cells": [
  {
   "cell_type": "markdown",
   "metadata": {},
   "source": [
    "# Tarea02-Operadores Relacionales y Lógicos\n",
    "### Alumno: Arnaldo Ariel García\n",
    "*Creado en Visual Studio con Jupyter Notebook*"
   ]
  },
  {
   "cell_type": "markdown",
   "metadata": {},
   "source": [
    "***\n",
    "1- Escriba un programa que le pida al usuario que ingrese una longitud en centímetros. Si el usuario ingresa una longitud negativa, el programa debe indicar al usuario que la entrada no es válida. De lo contrario, el programa debe convertir la longitud a pulgadas e imprimir el resultado. Hay 2,54 centímetros en una pulgada."
   ]
  },
  {
   "cell_type": "code",
   "execution_count": 1,
   "metadata": {},
   "outputs": [
    {
     "name": "stdout",
     "output_type": "stream",
     "text": [
      "Conversión de centimetros a pulgadas\n",
      "50.0 centimetros equivalen a 19.68503937007874 pulgadas\n"
     ]
    }
   ],
   "source": [
    "print('Conversión de centimetros a pulgadas')\n",
    "cent = float(input('Ingrese la medida en centimetros: '))\n",
    "if (cent>0):\n",
    "    pulg = cent / 2.54\n",
    "    print(cent,'centimetros equivalen a',pulg,'pulgadas')\n",
    "else:\n",
    "    print('La entrada no es valida')"
   ]
  },
  {
   "cell_type": "markdown",
   "metadata": {},
   "source": [
    "***\n",
    "2- Generar números aleatorios (random) del 1 al 10 y preguntar al usuario que adivine el numero. Utilizar int_ingresado= int(input(‘Ingrese el numero: '))"
   ]
  },
  {
   "cell_type": "code",
   "execution_count": 7,
   "metadata": {},
   "outputs": [
    {
     "name": "stdout",
     "output_type": "stream",
     "text": [
      "Adivina el número del 1 al 10\n",
      "Adivinaste! El número es 4\n"
     ]
    }
   ],
   "source": [
    "from random import randint\n",
    "print('Adivina el número del 1 al 10')\n",
    "\n",
    "ale = randint(1,10)\n",
    "int_ingresado = int(input('Ingresa un número'))\n",
    "if (ale == int_ingresado):\n",
    "    print('Adivinaste! El número es',ale)\n",
    "else:\n",
    "    print('Fallaste! El número era',ale)\n"
   ]
  },
  {
   "cell_type": "markdown",
   "metadata": {},
   "source": [
    "***\n",
    "3- En un comercio se venden focos a un precio diferenciado por cantidad, el precio unitario es 4.500Gs, si la cantidad es de 6 a 12 el precio es 4.000Gs, a partir de 13 unidades 3.700Gs. Elabore un programa que pida al usuario ingresar la cantidad de focos y retorne el precio unitario y el precio total dependiendo de la cantidad."
   ]
  },
  {
   "cell_type": "code",
   "execution_count": 5,
   "metadata": {},
   "outputs": [
    {
     "name": "stdout",
     "output_type": "stream",
     "text": [
      "Descuentos por focos\n",
      "Usted debe pagar 55500 Gs. por 15 focos obtuvo un descuento de 12000 Gs.\n"
     ]
    }
   ],
   "source": [
    "print('Descuentos por focos')\n",
    "cant = int(input('Cantidad de focos: '))\n",
    "if (cant<0):\n",
    "    print('Cantidad invalida!')\n",
    "else:\n",
    "    if (cant<6):\n",
    "        precio = cant * 4500\n",
    "    else:\n",
    "        if (cant<=12):\n",
    "            precio = cant * 4000\n",
    "        else:\n",
    "            if (cant>=13):\n",
    "                precio = cant * 3700\n",
    "    desc = cant *4500 - precio\n",
    "    print('Usted debe pagar',precio,'Gs. por',cant,'focos','obtuvo un descuento de',desc,'Gs.')"
   ]
  },
  {
   "cell_type": "markdown",
   "metadata": {},
   "source": [
    "3.1 Realice un algoritmo para determinar si una persona puede votar con base en su edad en las próximas elecciones. Construya una solución en python"
   ]
  },
  {
   "cell_type": "code",
   "execution_count": 2,
   "metadata": {},
   "outputs": [
    {
     "name": "stdout",
     "output_type": "stream",
     "text": [
      "Elecciones Nacionales Paraguay 2028\n",
      "El votante NO puede  votar, segun la edad dada.\n"
     ]
    }
   ],
   "source": [
    "print('Elecciones Nacionales Paraguay 2028')\n",
    "edad = int(input('Ingrese la edad del votante: '))\n",
    "if edad < 18:\n",
    "    res = 'NO puede '\n",
    "else:\n",
    "    res = 'ESTA habilitado para '\n",
    "print('El votante',res,'votar, segun la edad dada.')"
   ]
  },
  {
   "cell_type": "markdown",
   "metadata": {},
   "source": [
    "3.2 Realice un algoritmo para determinar el sueldo semanal de un trabajador con base en las horas trabajadas y el pago por hora, considerando que después de las 40 horas cada hora se considera como excedente y se paga el doble. Construya una solución en python."
   ]
  },
  {
   "cell_type": "code",
   "execution_count": 3,
   "metadata": {},
   "outputs": [
    {
     "name": "stdout",
     "output_type": "stream",
     "text": [
      "Calculo del sueldo semanal\n",
      "Total a pagar  750000 guaranies\n"
     ]
    }
   ],
   "source": [
    "print('Calculo del sueldo semanal')\n",
    "horastrabajadas = int(input('Cuantas horas trabajo en la semana?: '))\n",
    "pagosporhora = int(input('Cuanto es el pago por hora?: '))\n",
    "\n",
    "if(horastrabajadas>40):\n",
    "    pago = (horastrabajadas-40)*pagosporhora*2\n",
    "else:\n",
    "    pago = horastrabajadas*pagosporhora\n",
    "\n",
    "print('Total a pagar  {0} guaranies'. format(pago))"
   ]
  },
  {
   "cell_type": "markdown",
   "metadata": {},
   "source": [
    "3.3 El 14 de febrero una persona desea comprarle un regalo al ser querido que más aprecia en ese momento, su dilema radica en qué regalo puede hacerle, las alternativas que tiene son las siguientes:\n",
    "\n",
    "![1716444136779](image/README/1716444136779.png)\n",
    "\n",
    "Se requiere un diagrama de flujo con el algoritmo que ayude a determinar qué regalo se le puede comprar a ese ser tan especial por el día del amor y la amistad. Construya una solución en python."
   ]
  },
  {
   "cell_type": "code",
   "execution_count": 6,
   "metadata": {},
   "outputs": [
    {
     "name": "stdout",
     "output_type": "stream",
     "text": [
      "El regalo para tu waifu\n",
      "El mejor regalo que puedes dar a tu waifu es:  Anillo\n"
     ]
    }
   ],
   "source": [
    "print('El regalo para tu waifu')\n",
    "dinero = int(input('Indica cuanto dinero tienes: '))\n",
    "if dinero <= 10:\n",
    "    regalo = 'tarjeta'\n",
    "elif dinero <= 100:\n",
    "    regalo = 'Chocolates'\n",
    "elif dinero <= 250:\n",
    "    regalo = 'Flores'\n",
    "elif dinero > 250:\n",
    "    regalo = 'Anillo'\n",
    "else:\n",
    "    regalo = 'un beso'\n",
    "print('El mejor regalo que puedes dar a tu waifu es: ',regalo)\n"
   ]
  },
  {
   "cell_type": "markdown",
   "metadata": {},
   "source": [
    "3.4 El dueño de un estacionamiento requiere un diagrama de flujo con el algoritmo que le permita determinar cuánto debe cobrar por el uso del estacionamiento a sus clientes. Las tarifas que se tienen son las siguientes:\n",
    "\n",
    "\n",
    "\n",
    "Las dos primeras horas a $5.00 c/u.\n",
    "\n",
    "Las siguientes tres a $4.00 c/u.\n",
    "\n",
    "Las cinco siguientes a $3.00 c/u.\n",
    "\n",
    "Después de diez horas el costo por cada una es de dos dólares."
   ]
  },
  {
   "cell_type": "code",
   "execution_count": 10,
   "metadata": {},
   "outputs": [
    {
     "name": "stdout",
     "output_type": "stream",
     "text": [
      "Costo de Estacionamiento\n",
      "Por 4 horas debe pagar 18 $\n"
     ]
    }
   ],
   "source": [
    "print('Costo de Estacionamiento')\n",
    "\n",
    "horas = int(input('Ingrese la cantidad de Horas'))\n",
    "\n",
    "if(horas<=2):\n",
    "    costo = horas * 5\n",
    "else:\n",
    "    if((horas>=3) and (horas<=5)):\n",
    "        costo = (horas-2) * 4 + 10\n",
    "    else:\n",
    "        if((horas>=6) and (horas<=10)):\n",
    "            costo = (horas-5) * 3 + 22\n",
    "        else:\n",
    "            costo = (horas-10) * 2 + 37\n",
    "\n",
    "print('Por {} horas debe pagar {} $'.format(horas,costo))"
   ]
  },
  {
   "cell_type": "markdown",
   "metadata": {},
   "source": [
    "3.5 Se tiene el nombre y la edad de tres personas. Se desea saber el nombre y la edad de la persona de menor edad. Realice el algoritmo correspondiente y represéntelo en python."
   ]
  },
  {
   "cell_type": "code",
   "execution_count": 24,
   "metadata": {},
   "outputs": [
    {
     "name": "stdout",
     "output_type": "stream",
     "text": [
      "La/las persona/s de menor edad:  Mario\n"
     ]
    }
   ],
   "source": [
    "n1 = 'Mario'\n",
    "e1 = 5\n",
    "n2 = 'Jorge'\n",
    "e2 = 33\n",
    "n3 = 'Carlos'\n",
    "e3 = 15\n",
    "\n",
    "if e1<e2:\n",
    "    if e1<e3:\n",
    "        menor = n1\n",
    "    elif e1==e3:\n",
    "        menor = n1 + ' y ' + n3\n",
    "    else:\n",
    "        menor = n3\n",
    "elif e2<e1:\n",
    "    if e2<e3:\n",
    "        menor = n2\n",
    "    elif e2 == e3:\n",
    "        menor = n2 + ' y '+ n3\n",
    "    else:\n",
    "        menor = n3\n",
    "else:\n",
    "    menor = n1 + ' y '+ n2\n",
    "print('La/las persona/s de menor edad: ',menor)"
   ]
  },
  {
   "cell_type": "markdown",
   "metadata": {},
   "source": [
    "3.6 Realice el diagrama de flujo, el pseudocódigo, y escriba en lenguaje c.\n",
    "\n",
    " muestra el algoritmo para determinar el costo y el descuento que tendrá un artículo. Considere que si su precio es mayor o igual a $200 se le aplica un descuento de 15%, y si su precio es mayor a $100 pero menor a $200, el descuento es de 12%, y si es menor a $100, sólo 10%."
   ]
  },
  {
   "cell_type": "code",
   "execution_count": 25,
   "metadata": {},
   "outputs": [
    {
     "name": "stdout",
     "output_type": "stream",
     "text": [
      "Calculo de descuento\n",
      "Usted debe pagar 198.0 $ \n"
     ]
    }
   ],
   "source": [
    "print('Calculo de descuento')\n",
    "monto = int(input('Ingrese el monto de la compra: '))\n",
    "\n",
    "if(monto>=200):\n",
    "    costo = monto*0.75\n",
    "if((monto>100) and (monto<200)):\n",
    "    costo = monto * 0.78\n",
    "else:\n",
    "    costo = monto * 0.9\n",
    "\n",
    "print('Usted debe pagar {0} $ '.format(costo))"
   ]
  }
 ],
 "metadata": {
  "kernelspec": {
   "display_name": "Python 3.9.9 64-bit",
   "language": "python",
   "name": "python3"
  },
  "language_info": {
   "codemirror_mode": {
    "name": "ipython",
    "version": 3
   },
   "file_extension": ".py",
   "mimetype": "text/x-python",
   "name": "python",
   "nbconvert_exporter": "python",
   "pygments_lexer": "ipython3",
   "version": "3.12.2"
  },
  "orig_nbformat": 4,
  "vscode": {
   "interpreter": {
    "hash": "858947589ae312b46be4e9b6c1e8121937d9fe4dc7cc087105814b8203151760"
   }
  }
 },
 "nbformat": 4,
 "nbformat_minor": 2
}
