{
 "cells": [
  {
   "cell_type": "code",
   "execution_count": null,
   "metadata": {},
   "outputs": [],
   "source": [
    "\n",
    "primaria = []\n",
    "secundaria = []\n",
    "repetido =[]\n",
    "todos =[]\n",
    "resp = 1\n",
    "\n",
    "while(True):\n",
    "    nombre = input(\"Ingresa el nombre del alumno de primaria: \")\n",
    "    if (nombre==\"x\"or nombre==\"X\"):\n",
    "        break\n",
    "    primaria.append(nombre)\n",
    "\n",
    "while(True):\n",
    "    nombre = input(\"Ingresa el nombre del alumno de secundaria: \")\n",
    "    if (nombre==\"x\"or nombre==\"X\"):\n",
    "        break\n",
    "    secundaria.append(nombre)\n",
    "print (\"Alumnos de primaria\",set(primaria))\n",
    "print (\"Alumnos de secundaria\",set(secundaria))\n",
    "\n",
    "for i in primaria:\n",
    "    for j in secundaria:\n",
    "        if i==j:\n",
    "            repetido.append(i)\n",
    "print(\"Alumnos repetidos:\\n\",repetido)\n",
    "\n",
    "for i in repetido:\n",
    "    primaria.remove(i)\n",
    "print(\"Unicos no repetidos del primario:\\n\",primaria)\n",
    "\n",
    "todos = primaria+secundaria\n",
    "print(\"Estos son todos los alumnos\\n\",set(todos))\n"
   ]
  }
 ],
 "metadata": {
  "kernelspec": {
   "display_name": "Python 3",
   "language": "python",
   "name": "python3"
  },
  "language_info": {
   "codemirror_mode": {
    "name": "ipython",
    "version": 3
   },
   "file_extension": ".py",
   "mimetype": "text/x-python",
   "name": "python",
   "nbconvert_exporter": "python",
   "pygments_lexer": "ipython3",
   "version": "3.12.2"
  }
 },
 "nbformat": 4,
 "nbformat_minor": 2
}
